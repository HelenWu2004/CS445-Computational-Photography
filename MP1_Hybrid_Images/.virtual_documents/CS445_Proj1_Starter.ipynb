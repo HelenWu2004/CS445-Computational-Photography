








# # Optional, if using Google Colab w/ Drive
# from google.colab import drive
# drive.mount('/content/drive', force_remount=True)




import cv2

import numpy as np
from matplotlib.colors import LogNorm
from scipy import signal

# modify to where you store your project data including utils.py
datadir = "/Users/helenwu/Desktop/hybrid_4/" 

utilfn = datadir + "utils.py"
!cp "$utilfn" .
import utils


# switch from notebook to inline if using colab or otherwise cannot use interactive display)
# %matplotlib notebook  
# %matplotlib ipympl
%matplotlib widget
import matplotlib.pyplot as plt


im1_file = datadir + 'nutmeg.jpg'
im2_file = datadir + 'DerekPicture.jpg'

im1 = np.float32(cv2.imread(im1_file, cv2.IMREAD_GRAYSCALE) / 255.0)
im2 = np.float32(cv2.imread(im2_file, cv2.IMREAD_GRAYSCALE) / 255.0)


# ! pip install ipympl


pts_im1 = utils.prompt_eye_selection(im1)
pts_im1 = np.array([[607, 290], [748, 370]]) # uncomment if entering [x, y] pts manually
plt.plot(pts_im1[:,0], pts_im1[:,1], 'r-+')


pts_im2 = utils.prompt_eye_selection(im2)
pts_im2 = np.array([[299,343], [439,331]]) # uncomment if entering [x, y] pts manually
plt.plot(pts_im2[:,0], pts_im2[:,1], 'r-+')


im1, im2 = utils.align_images(im1_file, im2_file,pts_im1,pts_im2,save_images=False)



# convert to grayscale
im1 = cv2.cvtColor(im1, cv2.COLOR_BGR2GRAY) / 255.0
im2 = cv2.cvtColor(im2, cv2.COLOR_BGR2GRAY) / 255.0


#Images sanity check
fig, axes = plt.subplots(1, 2)
axes[0].imshow(im1,cmap='gray')
axes[0].set_title('Image 1'), axes[0].set_xticks([]), axes[0].set_yticks([])
axes[1].imshow(im2,cmap='gray')
axes[1].set_title('Image 2'), axes[1].set_xticks([]), axes[1].set_yticks([]);


def hybridImage(im1, im2, sigma_low, sigma_high):
    '''
    Inputs:
        im1:    RGB (height x width x 3) or a grayscale (height x width) image
                as a numpy array.
        im2:    RGB (height x width x 3) or a grayscale (height x width) image
                as a numpy array.
        sigma_low: standard deviation for the low-pass filter
        sigma_high: standard deviation for the high-pass filter
        
    Output:
        Return the combination of both images, one filtered with a low-pass filter
        and the other with a high-pass filter.
    '''  

    # your code goes here  
    kernel_low = utils.gaussian_kernel(sigma_low, kernel_half_size=int(3*sigma_low))
    kernel_high = utils.gaussian_kernel(sigma_high, kernel_half_size=int(3*sigma_high))
    
    # Apply low-pass filter to the first image
    low_pass_im1 = cv2.filter2D(im1, -1, kernel_low)
    
    # Apply high-pass filter to the second image
    low_pass_im2 = cv2.filter2D(im2, -1, kernel_high)
    high_pass_im2 = im2 - low_pass_im2  # Subtract low frequencies to get high-pass
    hybrid_image = low_pass_im1 + high_pass_im2
    
    return hybrid_image



sigma_low = 20 # choose parameters that work for your images
sigma_high = 20

im_hybrid = hybridImage(im2, im1, sigma_low, sigma_high)



# Optional: Select top left corner and bottom right corner to crop image
# the function returns dictionary of 
# {
#   'cropped_image': np.ndarray of shape H x W
#   'crop_bound': np.ndarray of shape 2x2
# }
cropped_object = utils.interactive_crop(im_hybrid)



























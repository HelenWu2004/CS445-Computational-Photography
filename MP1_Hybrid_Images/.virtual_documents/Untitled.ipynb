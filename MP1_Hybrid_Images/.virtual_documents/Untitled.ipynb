import cv2

import numpy as np
from matplotlib.colors import LogNorm
from scipy import signal

# modify to where you store your project data including utils.py
datadir = "/Users/helenwu/Desktop/hybrid_4/" 

utilfn = datadir + "utils.py"
!cp "$utilfn" .
import utils


# switch from notebook to inline if using colab or otherwise cannot use interactive display)
# %matplotlib notebook  
# %matplotlib ipympl
%matplotlib widget
import matplotlib.pyplot as plt


im1_file = datadir + 'nutmeg.jpg'
im2_file = datadir + 'DerekPicture.jpg'

im1 = np.float32(cv2.imread(im1_file, cv2.IMREAD_GRAYSCALE) / 255.0)
im2 = np.float32(cv2.imread(im2_file, cv2.IMREAD_GRAYSCALE) / 255.0)


# pts_im1 = utils.prompt_eye_selection(im1)
pts_im1 = np.array([[607, 290], [748, 370]]) # uncomment if entering [x, y] pts manually
plt.plot(pts_im1[:,0], pts_im1[:,1], 'r-+')


plt.figure()


plt.imshow(im1)



